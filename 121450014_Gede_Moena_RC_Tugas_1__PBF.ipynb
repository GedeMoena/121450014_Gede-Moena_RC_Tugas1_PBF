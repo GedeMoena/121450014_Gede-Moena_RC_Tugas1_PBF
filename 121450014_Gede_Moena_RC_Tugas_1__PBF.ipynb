{
  "nbformat": 4,
  "nbformat_minor": 0,
  "metadata": {
    "colab": {
      "provenance": []
    },
    "kernelspec": {
      "name": "python3",
      "display_name": "Python 3"
    },
    "language_info": {
      "name": "python"
    }
  },
  "cells": [
    {
      "cell_type": "markdown",
      "source": [
        "# 1. Jelaskan menggunakan tabel mengenai kelebihan dan kekurangan paradigma Procedural dibandingkan dengan Object Oriented (minimal 3) !"
      ],
      "metadata": {
        "id": "Rc37vQkyct7I"
      }
    },
    {
      "cell_type": "markdown",
      "source": [
        "# Kelebihan Paradigma procedural dan object oriented:"
      ],
      "metadata": {
        "id": "e_JYJh_cc8V8"
      }
    },
    {
      "cell_type": "code",
      "execution_count": 1,
      "metadata": {
        "colab": {
          "base_uri": "https://localhost:8080/"
        },
        "id": "zdqSrPiqatI5",
        "outputId": "b1507c42-1c85-49e4-d294-2c4ac239cd96"
      },
      "outputs": [
        {
          "output_type": "stream",
          "name": "stdout",
          "text": [
            "╒════════════════════════════════════════╤═══════════════════════════════════════════════╕\n",
            "│ Procedural                             │ Oriented                                      │\n",
            "╞════════════════════════════════════════╪═══════════════════════════════════════════════╡\n",
            "│ Pemrograman Lebih Mudah dipahami       │ Pemrograman lebih sulit dipahami              │\n",
            "├────────────────────────────────────────┼───────────────────────────────────────────────┤\n",
            "│ Mempunyai modularitas yang kompleks    │ Tidak Mempunyai Modularitas yang kompleks     │\n",
            "├────────────────────────────────────────┼───────────────────────────────────────────────┤\n",
            "│ Cocok untuk program/aplikasi sederhana │ Kurang cocok untuk program/aplikasi sederhana │\n",
            "╘════════════════════════════════════════╧═══════════════════════════════════════════════╛\n"
          ]
        }
      ],
      "source": [
        "from tabulate import tabulate\n",
        "data = [[\"Pemrograman Lebih Mudah dipahami\",\"Pemrograman lebih sulit dipahami\"],\n",
        "        [\"Mempunyai modularitas yang kompleks\",\"Tidak Mempunyai Modularitas yang kompleks\"]\n",
        "        ,[\"Cocok untuk program/aplikasi sederhana\",\"Kurang cocok untuk program/aplikasi sederhana\"]]\n",
        "print(tabulate(data, headers=[\"Procedural\",\"Oriented\"],tablefmt=\"fancy_grid\"))"
      ]
    },
    {
      "cell_type": "markdown",
      "source": [
        "# Kekurangan paradigma procedural dan object oriented"
      ],
      "metadata": {
        "id": "PUZUoS9afmb4"
      }
    },
    {
      "cell_type": "code",
      "source": [
        "from tabulate import tabulate\n",
        "data = [[\"Paradigma Prosedural tidak mempunyai access modifiers\",\"sedangkan OOP mempunyainya antara lain protected, public, dan juga private\"],\n",
        "        [\"Mempunyai tingkat keamanan yang rendah\",\"Mempunyai tingkat keamanan yang tinggi\"]\n",
        "        ,[\"Kurang cocok untuk program aplikasi yang kompleks\",\"cocok untuk program aplikasi yang kompleks\"]]\n",
        "print(tabulate(data, headers=[\"Procedural\",\"Oriented\"],tablefmt=\"fancy_grid\"))"
      ],
      "metadata": {
        "colab": {
          "base_uri": "https://localhost:8080/"
        },
        "id": "YewUWhJAf0_w",
        "outputId": "ed60bd88-570f-4c31-a15b-54501e8e93c8"
      },
      "execution_count": 2,
      "outputs": [
        {
          "output_type": "stream",
          "name": "stdout",
          "text": [
            "╒═══════════════════════════════════════════════════════╤════════════════════════════════════════════════════════════════════════════╕\n",
            "│ Procedural                                            │ Oriented                                                                   │\n",
            "╞═══════════════════════════════════════════════════════╪════════════════════════════════════════════════════════════════════════════╡\n",
            "│ Paradigma Prosedural tidak mempunyai access modifiers │ sedangkan OOP mempunyainya antara lain protected, public, dan juga private │\n",
            "├───────────────────────────────────────────────────────┼────────────────────────────────────────────────────────────────────────────┤\n",
            "│ Mempunyai tingkat keamanan yang rendah                │ Mempunyai tingkat keamanan yang tinggi                                     │\n",
            "├───────────────────────────────────────────────────────┼────────────────────────────────────────────────────────────────────────────┤\n",
            "│ Kurang cocok untuk program aplikasi yang kompleks     │ cocok untuk program aplikasi yang kompleks                                 │\n",
            "╘═══════════════════════════════════════════════════════╧════════════════════════════════════════════════════════════════════════════╛\n"
          ]
        }
      ]
    },
    {
      "cell_type": "markdown",
      "source": [
        "# 2. Jelaskan menggunakan tabel mengenai kelebihan dan kekurangan paradigma Object Oriented dibandingkan dengan Functional (minimal 3) !"
      ],
      "metadata": {
        "id": "GPujzbj_nU9W"
      }
    },
    {
      "cell_type": "markdown",
      "source": [
        "# Kekurangan Object Oriented dibandingkan Functional"
      ],
      "metadata": {
        "id": "xiFAFom4nmjO"
      }
    },
    {
      "cell_type": "code",
      "source": [
        "from tabulate import tabulate\n",
        "data = [[\"Ukuran program lebih besar\",\"Ukuran program lebih kecil\"],\n",
        "        [\"Runtime Program oriented lebih lama dibandingkan functional\",\"Runtime program lebih cepat\"]\n",
        "        ,[\"Program lebih kompleks sehingga membutuhkan waktu untuk terbiasa\",\"program tidak begitu kompleks\"]]\n",
        "print(tabulate(data, headers=[\"oriented\",\"Functional\"],tablefmt=\"fancy_grid\"))"
      ],
      "metadata": {
        "colab": {
          "base_uri": "https://localhost:8080/"
        },
        "id": "b_OrUAgvn1T1",
        "outputId": "3af0dc98-026a-4f7e-933c-2abb6b4c0c7e"
      },
      "execution_count": 3,
      "outputs": [
        {
          "output_type": "stream",
          "name": "stdout",
          "text": [
            "╒══════════════════════════════════════════════════════════════════╤═══════════════════════════════╕\n",
            "│ oriented                                                         │ Functional                    │\n",
            "╞══════════════════════════════════════════════════════════════════╪═══════════════════════════════╡\n",
            "│ Ukuran program lebih besar                                       │ Ukuran program lebih kecil    │\n",
            "├──────────────────────────────────────────────────────────────────┼───────────────────────────────┤\n",
            "│ Runtime Program oriented lebih lama dibandingkan functional      │ Runtime program lebih cepat   │\n",
            "├──────────────────────────────────────────────────────────────────┼───────────────────────────────┤\n",
            "│ Program lebih kompleks sehingga membutuhkan waktu untuk terbiasa │ program tidak begitu kompleks │\n",
            "╘══════════════════════════════════════════════════════════════════╧═══════════════════════════════╛\n"
          ]
        }
      ]
    },
    {
      "cell_type": "markdown",
      "source": [
        "# Kelebihan Object Oriented dibandingkan Functional"
      ],
      "metadata": {
        "id": "x5vXkXduq5ZT"
      }
    },
    {
      "cell_type": "code",
      "source": [
        "from tabulate import tabulate\n",
        "data = [[\"di support oleh banyak library sehingga mempercepat penyelesaian program\",\"library tidak banyak sehingga memerlukan waktu banyak untuk penyelesaian program\"],\n",
        "        [\"Cocok untuk mengerjakan proyek besar \",\"Kurang cocok untuk mengerjakan proyek besar\"]\n",
        "        ,[\"Program dapat dikembangankan sampai skala yang paling kompleks\",\"program tidak dapat dikembangkan ke skala yang paling kompleks\"]]\n",
        "print(tabulate(data, headers=[\"oriented\",\"Functional\"],tablefmt=\"fancy_grid\"))"
      ],
      "metadata": {
        "colab": {
          "base_uri": "https://localhost:8080/"
        },
        "id": "CctLlIgQq_Y4",
        "outputId": "016d1b71-cfa9-4482-d4ad-05960f7583c7"
      },
      "execution_count": 5,
      "outputs": [
        {
          "output_type": "stream",
          "name": "stdout",
          "text": [
            "╒══════════════════════════════════════════════════════════════════════════╤══════════════════════════════════════════════════════════════════════════════════╕\n",
            "│ oriented                                                                 │ Functional                                                                       │\n",
            "╞══════════════════════════════════════════════════════════════════════════╪══════════════════════════════════════════════════════════════════════════════════╡\n",
            "│ di support oleh banyak library sehingga mempercepat penyelesaian program │ library tidak banyak sehingga memerlukan waktu banyak untuk penyelesaian program │\n",
            "├──────────────────────────────────────────────────────────────────────────┼──────────────────────────────────────────────────────────────────────────────────┤\n",
            "│ Cocok untuk mengerjakan proyek besar                                     │ Kurang cocok untuk mengerjakan proyek besar                                      │\n",
            "├──────────────────────────────────────────────────────────────────────────┼──────────────────────────────────────────────────────────────────────────────────┤\n",
            "│ Program dapat dikembangankan sampai skala yang paling kompleks           │ program tidak dapat dikembangkan ke skala yang paling kompleks                   │\n",
            "╘══════════════════════════════════════════════════════════════════════════╧══════════════════════════════════════════════════════════════════════════════════╛\n"
          ]
        }
      ]
    },
    {
      "cell_type": "markdown",
      "source": [
        "# 3. Jelaskan menggunakan tabel mengenai kelebihan dan kekurangan paradigma Procedural dibandingkan dengan Functional (minimal 3) !"
      ],
      "metadata": {
        "id": "aJ4q2eCPvzBt"
      }
    },
    {
      "cell_type": "markdown",
      "source": [
        "# Kelebihan procedural dibandingkan functional"
      ],
      "metadata": {
        "id": "Y37rdyDC09No"
      }
    },
    {
      "cell_type": "code",
      "source": [
        "from tabulate import tabulate\n",
        "data = [[\"paradigma lebih mudah dipahami untuk pemula\",\"lebih sulit dipahami untuk pemula\"],\n",
        "        [\"Data bersifat mutable\",\"Data bersifat imutable\"]\n",
        "        ,[\"Penggunaan looping normal\",\"penggunaan looping yang sulit dan mengintimidasi\"]]\n",
        "print(tabulate(data, headers=[\"procedural\",\"Functional\"],tablefmt=\"fancy_grid\"))"
      ],
      "metadata": {
        "colab": {
          "base_uri": "https://localhost:8080/"
        },
        "id": "0VgPpY0u4Vlp",
        "outputId": "43a29be2-0fce-441b-acb1-57ef5ac1e243"
      },
      "execution_count": 6,
      "outputs": [
        {
          "output_type": "stream",
          "name": "stdout",
          "text": [
            "╒═════════════════════════════════════════════╤══════════════════════════════════════════════════╕\n",
            "│ procedural                                  │ Functional                                       │\n",
            "╞═════════════════════════════════════════════╪══════════════════════════════════════════════════╡\n",
            "│ paradigma lebih mudah dipahami untuk pemula │ lebih sulit dipahami untuk pemula                │\n",
            "├─────────────────────────────────────────────┼──────────────────────────────────────────────────┤\n",
            "│ Data bersifat mutable                       │ Data bersifat imutable                           │\n",
            "├─────────────────────────────────────────────┼──────────────────────────────────────────────────┤\n",
            "│ Penggunaan looping normal                   │ penggunaan looping yang sulit dan mengintimidasi │\n",
            "╘═════════════════════════════════════════════╧══════════════════════════════════════════════════╛\n"
          ]
        }
      ]
    },
    {
      "cell_type": "markdown",
      "source": [
        "# Kekurangan procedural dibandingkan functional"
      ],
      "metadata": {
        "id": "Ivi2hHXSAAGV"
      }
    },
    {
      "cell_type": "code",
      "source": [
        "from tabulate import tabulate\n",
        "data = [[\"proses debug lebih lambat\",\"proses debug lebih cepat\"],\n",
        "        [\"kurang cocok digunakan untuk pengembangan program terhadap data\",\"cocok digunakan untuk pengembangan program terhadap data\"]\n",
        "        ,[\"jarang menggunakan fungsi\",\"penggunaan fungsi lebih kompleks\"]]\n",
        "print(tabulate(data, headers=[\"procedural\",\"Functional\"],tablefmt=\"fancy_grid\"))"
      ],
      "metadata": {
        "colab": {
          "base_uri": "https://localhost:8080/"
        },
        "id": "cqm4qWBsAJ9s",
        "outputId": "4d044726-a87c-4de2-fe93-ad0b17d71a9b"
      },
      "execution_count": 7,
      "outputs": [
        {
          "output_type": "stream",
          "name": "stdout",
          "text": [
            "╒═════════════════════════════════════════════════════════════════╤══════════════════════════════════════════════════════════╕\n",
            "│ procedural                                                      │ Functional                                               │\n",
            "╞═════════════════════════════════════════════════════════════════╪══════════════════════════════════════════════════════════╡\n",
            "│ proses debug lebih lambat                                       │ proses debug lebih cepat                                 │\n",
            "├─────────────────────────────────────────────────────────────────┼──────────────────────────────────────────────────────────┤\n",
            "│ kurang cocok digunakan untuk pengembangan program terhadap data │ cocok digunakan untuk pengembangan program terhadap data │\n",
            "├─────────────────────────────────────────────────────────────────┼──────────────────────────────────────────────────────────┤\n",
            "│ jarang menggunakan fungsi                                       │ penggunaan fungsi lebih kompleks                         │\n",
            "╘═════════════════════════════════════════════════════════════════╧══════════════════════════════════════════════════════════╛\n"
          ]
        }
      ]
    },
    {
      "cell_type": "markdown",
      "source": [
        "# 4. Apa yang dimaksud dengan pure functional programming language?"
      ],
      "metadata": {
        "id": "rtm8-cBqCXUq"
      }
    },
    {
      "cell_type": "markdown",
      "source": [
        "pure function adalah fungsi yang melakukan suatu operasi yang hasilnya hanya bergantung dari input fungsi tersebut."
      ],
      "metadata": {
        "id": "jxfbnsJaCd6g"
      }
    },
    {
      "cell_type": "markdown",
      "source": [
        "# 5. Dari bahasa pemrograman FP di slide sebelumnya ( slide 14 ) , manakah yang termasuk pure functional programming language?"
      ],
      "metadata": {
        "id": "U9ycmO7qFm9r"
      }
    },
    {
      "cell_type": "markdown",
      "source": [
        "1. LISP\n",
        "2. HASKELL\n",
        "3. CLOJURE\\"
      ],
      "metadata": {
        "id": "_OcCe3QYFuHS"
      }
    },
    {
      "cell_type": "markdown",
      "source": [
        "# 6. Membuat program Simple Password encryption, dengan ketentuan :\n",
        "1. Input password bertipe string dengan batasan panjang password 100 karakter\n",
        "2. Setiap karakter dari string tersebut diubah menjadi ASCII value\n",
        "3. Kemudian setiap ASCII value tersebut dikembangkan menjadi 3 value dengan dilakukan operasi berikut:\n",
        "\n"
      ],
      "metadata": {
        "id": "Irrx0Fz-GKpQ"
      }
    },
    {
      "cell_type": "markdown",
      "source": [
        "1.Value pertama dibagi dengan integer 26 kemudian dibulatkan dan dijumlahkan dengan 80 kemudian diubah kembali menjadi karakter\n",
        "\n",
        "2.Value kedua dihitung sisa bagi dengan 26 kemudian dijumlahkan dengan 80 kemudian diubah kembali menjadi karakter\n",
        "\n",
        "3.Value ketiga adalah karakter '+' jika value pertama lebih besar dari value kedua, atau value ketiga adalah karakter '-' jika value pertama tidak lebih besar dari value kedua\n",
        "\n",
        "4.Deretkan value pertama, kedua dan ketiga untuk setiap karakter dalam password tersebut sehingga didapatkan password dalam bentuk baru"
      ],
      "metadata": {
        "id": "NfZpV7iOJQfD"
      }
    },
    {
      "cell_type": "code",
      "source": [
        "# encryption\n",
        "def enkripsi(password):\n",
        "  if len(password) > 100 or len(password) == 0:\n",
        "    print(\"Enter 1-100 characters\")\n",
        "  else:\n",
        "    ascii = [str(ord(i)) for i in password]\n",
        "    enkri = ''.join(chr((int(j)//26)+80)+chr((int(j)%26)+80)+('+' if (int(j)//26)+80 > (int(j)%26)+80 else '-') for j in ascii)\n",
        "    print(\"The encryption password is: \", enkri)\n",
        "\n",
        "# Description\n",
        "def dekripsi(password):\n",
        "  split_ps = [(password[k:k+3]) for k in range(0, len(password), 3)]\n",
        "  dekri = ''.join(chr(((ord(list(z)[0])-80)*26)+(ord(list(z)[1])-80)) for z in split_ps)\n",
        "  print(\"The password is: \", dekri)\n",
        "\n",
        "password = input(\"Enter Password: \")\n",
        "enkripsi(password)\n",
        "\n",
        "enk = input(\"Enter the encryption password: \")\n",
        "dekripsi(enk)"
      ],
      "metadata": {
        "colab": {
          "base_uri": "https://localhost:8080/"
        },
        "id": "u5widuquNod7",
        "outputId": "11c2b607-9629-4cab-83b7-02ee005d03a6"
      },
      "execution_count": 63,
      "outputs": [
        {
          "output_type": "stream",
          "name": "stdout",
          "text": [
            "Enter Password: akuanakpintar\n",
            "The encryption password is:  Sc-TS+T]-Sc-TV-Sc-TS+TX-TQ+TV-T\\-Sc-TZ-\n",
            "Enter the encryption password: Sc-TS+T]-Sc-TV-Sc-TS+TX-TQ+TV-T\\-Sc-TZ-\n",
            "The password is:  akuanakpintar\n"
          ]
        }
      ]
    }
  ]
}